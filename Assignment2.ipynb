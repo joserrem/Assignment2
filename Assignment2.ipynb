{
 "cells": [
  {
   "cell_type": "code",
   "execution_count": 1,
   "id": "b7e6123f-7663-4715-bcd4-230d955a2987",
   "metadata": {},
   "outputs": [],
   "source": [
    "from pyspark.sql import SparkSession\n",
    "from pyspark.sql.dataframe import DataFrame\n",
    "import pandas as pd\n",
    "from pyspark.sql.functions import when, regexp_replace, col, udf, date_format, sum, row_number\n",
    "from pyspark.sql.types import DateType\n",
    "from datetime import datetime\n",
    "from pyspark.sql.window import Window"
   ]
  },
  {
   "cell_type": "code",
   "execution_count": 2,
   "id": "04984fb8-8714-4554-b2e5-f3ac0d53792a",
   "metadata": {},
   "outputs": [],
   "source": [
    "def clean_blank_spaces(df: DataFrame)-> DataFrame:\n",
    "    \"\"\"\n",
    "    Delete blank spaces.\n",
    "\n",
    "    Args:\n",
    "        df (DataFrame): Dataframe.\n",
    "\n",
    "    Returns:\n",
    "        (Dataframe): New dataframe without blank spaces.\n",
    "    \"\"\"\n",
    "    df = df.select([regexp_replace(col(column), ' ', '').alias(column) for column in df.columns])\n",
    "    return df"
   ]
  },
  {
   "cell_type": "code",
   "execution_count": 3,
   "id": "e71b2060-cd52-48b6-b38d-dbb4b397ce6d",
   "metadata": {},
   "outputs": [],
   "source": [
    "def pre_process_data(df: DataFrame)-> DataFrame:\n",
    "    \"\"\"\n",
    "    Prepare de data to be process.\n",
    "\n",
    "    Args:\n",
    "        df (DataFrame): Dataframe.\n",
    "\n",
    "    Returns:\n",
    "        (Dataframe): New dataframe prepare to be transformed.\n",
    "    \"\"\"\n",
    "    func =  udf (lambda x: datetime.strptime(x, '%Y%m%d'), DateType())\n",
    "    df = df.select(date_format(func(col('TransactionDate')), 'yyyy-MM-dd').alias('TransactionDate'),\n",
    "             col('AccountNumber'),\n",
    "             col('TransactionType'),\n",
    "             (when(col('TransactionType') == 'Debit', col('Amount').cast('float')*(-1))\n",
    "              .otherwise(col('Amount').cast('float'))).alias('Amount'))\n",
    "    return df"
   ]
  },
  {
   "cell_type": "code",
   "execution_count": 4,
   "id": "d6c762ef-2af2-41e4-813b-52d24d36ded7",
   "metadata": {},
   "outputs": [],
   "source": [
    "def process_data(df: DataFrame)-> DataFrame:\n",
    "    \"\"\"\n",
    "    Calculate the current balance per AccountNumber.\n",
    "\n",
    "    Args:\n",
    "        df (DataFrame): Dataframe.\n",
    "\n",
    "    Returns:\n",
    "        (Dataframe): New dataframe transformed.\n",
    "    \"\"\"\n",
    "    windowSpecAgg  = Window.partitionBy('Accountnumber').orderBy(\"TransactionDate\")\n",
    "    df = df.withColumn('CurrentBalance',sum(col('Amount')).over(windowSpecAgg))\n",
    "    df_final = df.select(col('TransactionDate'),\n",
    "             col('AccountNumber'),\n",
    "             col('TransactionType'),\n",
    "             (when(col('Amount')<0, col('Amount')*(-1)).otherwise(col('Amount'))).alias('Amount'),\n",
    "             col('CurrentBalance'))\n",
    "    return df_final"
   ]
  },
  {
   "cell_type": "code",
   "execution_count": 5,
   "id": "5b118ddc-700c-45eb-88ec-7c65b4a351fa",
   "metadata": {},
   "outputs": [],
   "source": [
    "def save_to_csv(df: DataFrame, delimiter = ';', mode = 'overwrite', output = 'output'):\n",
    "    \"\"\"\n",
    "    Save dataframe into a csv file.\n",
    "\n",
    "    Args:\n",
    "        df (DataFrame): Dataframe.\n",
    "        delimiter (String): Character to delimit fields. By default (;).\n",
    "        mode (String): The mode to store it. By default (overwrite).\n",
    "        output (String): Folder where csv is stored. By default (output).\n",
    "\n",
    "    Returns:\n",
    "        (Dataframe): New dataframe without blank spaces.\n",
    "    \"\"\"\n",
    "    df.write.option('header',True) \\\n",
    "    .option('delimiter',delimiter) \\\n",
    "    .mode(mode) \\\n",
    "    .csv(output)\n",
    "    "
   ]
  },
  {
   "cell_type": "code",
   "execution_count": 6,
   "id": "9803bed5-e4e4-4726-be19-cb4aebcbcd11",
   "metadata": {},
   "outputs": [],
   "source": [
    "def main(file: str, sheet: str):\n",
    "    \"\"\"\n",
    "    Calculate Current Balance per AccountNumber and save the output into a csv file.\n",
    "\n",
    "    Args:\n",
    "        file (String): input file.\n",
    "        sheet (String): input file sheet.\n",
    "\n",
    "    Returns:\n",
    "        None\n",
    "    \"\"\"\n",
    "    # Creating Spark Session\n",
    "    spark = SparkSession.builder \\\n",
    "        .master(\"local[2]\") \\\n",
    "        .appName(\"Financial_Transactions\") \\\n",
    "        .getOrCreate()\n",
    "    \n",
    "    # Reading Excel file with pandas and creating a Dataframe\n",
    "    pre_df = pd.read_excel(file, sheet_name = sheet)\n",
    "    df = spark.createDataFrame(pre_df)\n",
    "\n",
    "    # Clean all blank spaces from Excel file\n",
    "    df = clean_blank_spaces(df)\n",
    "    # Prepare Data Types to process Data\n",
    "    df = pre_process_data(df)\n",
    "    # Calculate The Current Balance \n",
    "    df_final = process_data(df)\n",
    "    # Save df into a csv file\n",
    "    save_to_csv(df_final)"
   ]
  },
  {
   "cell_type": "code",
   "execution_count": 7,
   "id": "61e87a48-91a3-4071-8f00-072325f0ee96",
   "metadata": {},
   "outputs": [
    {
     "name": "stderr",
     "output_type": "stream",
     "text": [
      "Setting default log level to \"WARN\".\n",
      "To adjust logging level use sc.setLogLevel(newLevel). For SparkR, use setLogLevel(newLevel).\n",
      "24/08/27 13:38:34 WARN NativeCodeLoader: Unable to load native-hadoop library for your platform... using builtin-java classes where applicable\n",
      "24/08/27 13:38:34 WARN Utils: Service 'SparkUI' could not bind on port 4040. Attempting port 4041.\n",
      "                                                                                \r"
     ]
    }
   ],
   "source": [
    "# Script Execution\n",
    "main(file = 'Financial_Transactions.xlsm',sheet = 'AccountTransaction')"
   ]
  }
 ],
 "metadata": {
  "kernelspec": {
   "display_name": "Python 3 (ipykernel)",
   "language": "python",
   "name": "python3"
  },
  "language_info": {
   "codemirror_mode": {
    "name": "ipython",
    "version": 3
   },
   "file_extension": ".py",
   "mimetype": "text/x-python",
   "name": "python",
   "nbconvert_exporter": "python",
   "pygments_lexer": "ipython3",
   "version": "3.12.4"
  }
 },
 "nbformat": 4,
 "nbformat_minor": 5
}
